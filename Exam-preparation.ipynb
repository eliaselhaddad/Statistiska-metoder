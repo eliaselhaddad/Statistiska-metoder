{
 "cells": [
  {
   "cell_type": "code",
   "execution_count": 42,
   "metadata": {},
   "outputs": [
    {
     "name": "stdout",
     "output_type": "stream",
     "text": [
      "Expected value = 5.0\n",
      "P(X<=3) =  0.2578386591160163\n",
      "P(X=0) + P(X=1) + P(X=2) + P(X=3) =  0.2578\n"
     ]
    }
   ],
   "source": [
    "from scipy.stats import binom\n",
    "\n",
    "# uppgift 3,4\n",
    "\n",
    "n = 100\n",
    "p = 0.05\n",
    "\n",
    "# calculate the expected value\n",
    "mean = binom.stats(n=n, p=p)\n",
    "print(f'Expected value = {mean[0]}') # [0] because mean is the first element in the tuple of mean and variance (mean, var)\n",
    "\n",
    "# calculate P(X<=3)\n",
    "prob = binom.cdf(k=3, n=n, p=p)\n",
    "print(f'P(X<=3) =  {prob}')\n",
    "\n",
    "# calculate P(X=0) + P(X=1) + P(X=2) + P(X=3)\n",
    "prob0 = binom.pmf(k=0, n=n, p=p)\n",
    "prob1 = binom.pmf(k=1, n=n, p=p)\n",
    "prob2 = binom.pmf(k=2, n=n, p=p)\n",
    "prob3 = binom.pmf(k=3, n=n, p=p)\n",
    "print(f'P(X=0) + P(X=1) + P(X=2) + P(X=3) =  {prob0 + prob1 + prob2 + prob3:.4f}')"
   ]
  },
  {
   "cell_type": "code",
   "execution_count": 49,
   "metadata": {},
   "outputs": [
    {
     "name": "stdout",
     "output_type": "stream",
     "text": [
      "P(X=0) =  0.6065\n",
      "P(X>=2) =  0.0902\n",
      "P(X=0) >= 80% =  False\n"
     ]
    }
   ],
   "source": [
    "from scipy.stats import poisson\n",
    "\n",
    "# uppgift 3,22\n",
    "\n",
    "mu = 0.5\n",
    "\n",
    "# calculate P(X=0)\n",
    "prob = poisson.pmf(k=0, mu=mu)\n",
    "print(f'P(X=0) =  {prob:.4f}')\n",
    "\n",
    "# calculate P(X>=2)\n",
    "prob = 1 - poisson.cdf(k=1, mu=mu)\n",
    "print(f'P(X>=2) =  {prob:.4f}')\n",
    "\n",
    "# calculate P(X=0) >= 80%\n",
    "prob = poisson.pmf(k=0, mu=mu)\n",
    "print(f'P(X=0) >= 80% =  {prob >= 0.8}')\n"
   ]
  },
  {
   "cell_type": "code",
   "execution_count": 50,
   "metadata": {},
   "outputs": [
    {
     "name": "stdout",
     "output_type": "stream",
     "text": [
      "P(X=0) =  0.2500\n",
      "P(X<=1) =  0.5000\n"
     ]
    }
   ],
   "source": [
    "from scipy.stats import nbinom\n",
    "\n",
    "# calculate P(X=0)\n",
    "prob = nbinom.pmf(k=0, n=2, p=0.5)\n",
    "print(f'P(X=0) =  {prob:.4f}')\n",
    "\n",
    "# calculate P(X<=1)\n",
    "prob = nbinom.cdf(k=1, n=2, p=0.5)\n",
    "print(f'P(X<=1) =  {prob:.4f}')"
   ]
  },
  {
   "cell_type": "code",
   "execution_count": 2,
   "metadata": {},
   "outputs": [
    {
     "name": "stdout",
     "output_type": "stream",
     "text": [
      "P(X<=1) =  0.8413\n"
     ]
    }
   ],
   "source": [
    "from scipy.stats import norm\n",
    "\n",
    "# calculate P(X<=1)\n",
    "prob = norm.cdf(x=1, loc=0, scale=1) # loc = mean, scale = standard deviation\n",
    "print(f'P(X<=1) =  {prob:.4f}')"
   ]
  }
 ],
 "metadata": {
  "kernelspec": {
   "display_name": "Python 3",
   "language": "python",
   "name": "python3"
  },
  "language_info": {
   "codemirror_mode": {
    "name": "ipython",
    "version": 3
   },
   "file_extension": ".py",
   "mimetype": "text/x-python",
   "name": "python",
   "nbconvert_exporter": "python",
   "pygments_lexer": "ipython3",
   "version": "3.9.13"
  },
  "orig_nbformat": 4,
  "vscode": {
   "interpreter": {
    "hash": "b69d018eeda785eaf4bc07a2891481be73b2136ce99b860067652d3b8a9a52f8"
   }
  }
 },
 "nbformat": 4,
 "nbformat_minor": 2
}
